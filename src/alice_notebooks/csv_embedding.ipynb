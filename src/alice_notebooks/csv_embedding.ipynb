{
 "cells": [
  {
   "cell_type": "code",
   "execution_count": null,
   "metadata": {},
   "outputs": [],
   "source": [
    "from os import environ\n",
    "import configs.config as config\n",
    "\n",
    "ZILLIZ_ENDPOINT = config.ZILLIZ_ENDPOINT # cluster endpoint\n",
    "ZILLIZ_USER = config.ZILLIZ_USER # cluster username\n",
    "ZILLIZ_PASS = config.ZILLIZ_PASS # password\n",
    "OPENAI_API_KEY = config.OPENAI_API_KEY # OpenAI API key\n",
    "\n",
    "# Set up environment variables\n",
    "environ[\"OPENAI_API_KEY\"] = OPENAI_API_KEY"
   ]
  },
  {
   "cell_type": "code",
   "execution_count": null,
   "metadata": {},
   "outputs": [],
   "source": [
    "from langchain_community.document_loaders.csv_loader import CSVLoader\n",
    "from langchain.text_splitter import CharacterTextSplitter\n",
    "# use CSVLoader\n",
    "loader = CSVLoader(\"CGU_QA.csv\",source_column=\"Topic\")\n",
    "\n",
    "docs = loader.load()\n",
    "text_splitter = CharacterTextSplitter(chunk_size=2048, chunk_overlap=0)\n",
    "docs = text_splitter.split_documents(docs)"
   ]
  },
  {
   "cell_type": "code",
   "execution_count": null,
   "metadata": {},
   "outputs": [],
   "source": [
    "from langchain.embeddings.openai import OpenAIEmbeddings\n",
    "# vectorize the documents using OpenAI's text-embedding\n",
    "embeddings = OpenAIEmbeddings(model=\"text-embedding-3-small\")"
   ]
  },
  {
   "cell_type": "code",
   "execution_count": null,
   "metadata": {},
   "outputs": [],
   "source": [
    "\n",
    "\n",
    "connection_string = f\"postgresql+psycopg://{{config.POSTGRES_USER}}:{{config.POSTGRES_PASSWORD}}@{{config.POSTGRES_HOST}}:{{config.POSTGRES_PORT}}/{{config.POSTGRES_DB}}\""
   ]
  },
  {
   "cell_type": "code",
   "execution_count": null,
   "metadata": {},
   "outputs": [],
   "source": [
    "from langchain_postgres import PGVector\n",
    "import json\n",
    "\n",
    "# Setup database connection and vector store\n",
    "vector_store = PGVector(\n",
    "    embeddings=embeddings,\n",
    "    connection=connection_string,\n",
    "    table_name=\"vectors\",\n",
    "    vector_column=\"vector\"\n",
    ")"
   ]
  },
  {
   "cell_type": "code",
   "execution_count": null,
   "metadata": {},
   "outputs": [],
   "source": [
    "# Store documents with embeddings and metadata\n",
    "for doc in docs:\n",
    "    embedding_vector = vector_store.embeddings.embed(doc.page_content)\n",
    "    vector_store.insert({\n",
    "        'vector': embedding_vector,\n",
    "        'metadata': json.dumps(doc.metadata)\n",
    "    })"
   ]
  },
  {
   "cell_type": "code",
   "execution_count": null,
   "metadata": {},
   "outputs": [],
   "source": [
    "from langchain.chains import QAWithSourcesChain\n",
    "from langchain.llms import OpenAI\n",
    "\n",
    "# Initialize the QA chain\n",
    "chain = QAWithSourcesChain(llm=OpenAI(temperature=0), chain_type=\"map_reduce\", return_intermediate_steps=True)"
   ]
  },
  {
   "cell_type": "code",
   "execution_count": null,
   "metadata": {},
   "outputs": [],
   "source": [
    "# Example query\n",
    "query = \"Do you know CGU?\"\n",
    "docs = vector_store.similarity_search(query, top_k=10)  # Assuming vector_store is configured correctly\n",
    "\n",
    "# Execute the QA chain\n",
    "res = chain.run({\n",
    "    \"input_documents\": docs,\n",
    "    \"question\": query\n",
    "}, return_only_outputs=False)\n",
    "\n",
    "print(\"Question：\" + query + \"\\n\")\n",
    "print(\"Answer：\" + res['output_text'])"
   ]
  }
 ],
 "metadata": {
  "kernelspec": {
   "display_name": ".venv",
   "language": "python",
   "name": "python3"
  },
  "language_info": {
   "name": "python",
   "version": "3.10.10"
  }
 },
 "nbformat": 4,
 "nbformat_minor": 2
}
