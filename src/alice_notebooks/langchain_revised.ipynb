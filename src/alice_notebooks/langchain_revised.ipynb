{
 "cells": [
  {
   "cell_type": "code",
   "execution_count": null,
   "metadata": {},
   "outputs": [],
   "source": [
    "# ! pip install openai\n",
    "# ! pip install openai openpyxl\n",
    "# ! pip install langchain\n",
    "# ! pip install tiktoken"
   ]
  },
  {
   "cell_type": "code",
   "execution_count": 1,
   "metadata": {},
   "outputs": [],
   "source": [
    "import os\n",
    "import pandas as pd\n",
    "from langchain.llms import OpenAI\n",
    "from langchain.schema import (\n",
    "    AIMessage,\n",
    "    HumanMessage,\n",
    "    SystemMessage\n",
    ")\n",
    "from langchain.chat_models import ChatOpenAI\n",
    "from langchain import PromptTemplate\n",
    "from langchain.chains import LLMChain, SimpleSequentialChain"
   ]
  },
  {
   "cell_type": "code",
   "execution_count": 2,
   "metadata": {},
   "outputs": [],
   "source": [
    "api_key = os.environ.get('OPENAI_API_KEY')"
   ]
  },
  {
   "cell_type": "code",
   "execution_count": 4,
   "metadata": {},
   "outputs": [],
   "source": [
    "# Initialize the LLM\n",
    "llm = OpenAI(model_name='davinci-002', api_key=api_key)"
   ]
  },
  {
   "cell_type": "code",
   "execution_count": 5,
   "metadata": {},
   "outputs": [],
   "source": [
    "# Read the CSV file containing questions and answers\n",
    "csv_file = 'C:/Users/Owner/Desktop/CGU/IST 498 - Generative_AI_Independent_Study/Large Language Model/CGU_QA.csv'\n",
    "data = pd.read_csv(csv_file)"
   ]
  },
  {
   "cell_type": "code",
   "execution_count": 6,
   "metadata": {},
   "outputs": [
    {
     "data": {
      "text/html": [
       "<div>\n",
       "<style scoped>\n",
       "    .dataframe tbody tr th:only-of-type {\n",
       "        vertical-align: middle;\n",
       "    }\n",
       "\n",
       "    .dataframe tbody tr th {\n",
       "        vertical-align: top;\n",
       "    }\n",
       "\n",
       "    .dataframe thead th {\n",
       "        text-align: right;\n",
       "    }\n",
       "</style>\n",
       "<table border=\"1\" class=\"dataframe\">\n",
       "  <thead>\n",
       "    <tr style=\"text-align: right;\">\n",
       "      <th></th>\n",
       "      <th>Question</th>\n",
       "      <th>Answer</th>\n",
       "      <th>Topic</th>\n",
       "    </tr>\n",
       "  </thead>\n",
       "  <tbody>\n",
       "    <tr>\n",
       "      <th>0</th>\n",
       "      <td>Do you offer information sessions?</td>\n",
       "      <td>Yes. We regularly offer sessions and prospecti...</td>\n",
       "      <td>Admissions Process</td>\n",
       "    </tr>\n",
       "    <tr>\n",
       "      <th>1</th>\n",
       "      <td>Is there an advantage to applying by the prior...</td>\n",
       "      <td>Applicants who apply by the priority deadline ...</td>\n",
       "      <td>Admissions Process</td>\n",
       "    </tr>\n",
       "    <tr>\n",
       "      <th>2</th>\n",
       "      <td>What are the application requirements?</td>\n",
       "      <td>Application requirements(https://www.cgu.edu/a...</td>\n",
       "      <td>Admissions Process</td>\n",
       "    </tr>\n",
       "    <tr>\n",
       "      <th>3</th>\n",
       "      <td>When will I find out my admission decision?</td>\n",
       "      <td>After you submit a completed application for a...</td>\n",
       "      <td>Admissions Process</td>\n",
       "    </tr>\n",
       "    <tr>\n",
       "      <th>4</th>\n",
       "      <td>Is a master’s degree a prerequisite for admiss...</td>\n",
       "      <td>This varies by area of study. Many programs gi...</td>\n",
       "      <td>Admissions Process</td>\n",
       "    </tr>\n",
       "  </tbody>\n",
       "</table>\n",
       "</div>"
      ],
      "text/plain": [
       "                                            Question  \\\n",
       "0                 Do you offer information sessions?   \n",
       "1  Is there an advantage to applying by the prior...   \n",
       "2             What are the application requirements?   \n",
       "3        When will I find out my admission decision?   \n",
       "4  Is a master’s degree a prerequisite for admiss...   \n",
       "\n",
       "                                              Answer               Topic  \n",
       "0  Yes. We regularly offer sessions and prospecti...  Admissions Process  \n",
       "1  Applicants who apply by the priority deadline ...  Admissions Process  \n",
       "2  Application requirements(https://www.cgu.edu/a...  Admissions Process  \n",
       "3  After you submit a completed application for a...  Admissions Process  \n",
       "4  This varies by area of study. Many programs gi...  Admissions Process  "
      ]
     },
     "execution_count": 6,
     "metadata": {},
     "output_type": "execute_result"
    }
   ],
   "source": [
    "data.head()"
   ]
  },
  {
   "cell_type": "code",
   "execution_count": 7,
   "metadata": {},
   "outputs": [],
   "source": [
    "# Create a knowledge base (dictionary) that combines answers based on the topic\n",
    "knowledge_base = {}\n",
    "for _, row in data.iterrows():\n",
    "    topic = row['Topic']\n",
    "    question = row['Question']\n",
    "    answer = row['Answer']\n",
    "    \n",
    "    if topic not in knowledge_base:\n",
    "        knowledge_base[topic] = []\n",
    "    knowledge_base[topic].append(f\"Q: {question}\\nA: {answer}\\n\")"
   ]
  },
  {
   "cell_type": "code",
   "execution_count": 8,
   "metadata": {},
   "outputs": [],
   "source": [
    "# Combine answers for each topic\n",
    "for topic in knowledge_base:\n",
    "    knowledge_base[topic] = \"\\n\".join(knowledge_base[topic])"
   ]
  },
  {
   "cell_type": "code",
   "execution_count": 9,
   "metadata": {},
   "outputs": [],
   "source": [
    "# Function to get the combined answer based on the topic\n",
    "def get_combined_answer(topic):\n",
    "    return knowledge_base.get(topic, \"I'm sorry, I don't have information on that topic.\")"
   ]
  },
  {
   "cell_type": "code",
   "execution_count": 10,
   "metadata": {},
   "outputs": [],
   "source": [
    "# Initialize the ChatOpenAI model\n",
    "chat = ChatOpenAI(model_name=\"gpt-3.5-turbo\", temperature=0.3)"
   ]
  },
  {
   "cell_type": "code",
   "execution_count": 11,
   "metadata": {},
   "outputs": [],
   "source": [
    "# Define the system message for the chatbot\n",
    "system_message = SystemMessage(content=\"You are an expert educator, providing clear and accurate answers to students' questions.\")"
   ]
  },
  {
   "cell_type": "code",
   "execution_count": 26,
   "metadata": {},
   "outputs": [],
   "source": [
    "# Create the first prompt template for generating detailed answers\n",
    "first_template = \"\"\"\n",
    "You are an expert educator with extensive knowledge in various subjects.\n",
    "Answer the following questions comprehensively based on the provided information.\n",
    "Topic: {input}\n",
    "\"\"\"\n",
    "first_prompt = PromptTemplate(\n",
    "    input_variables=[\"input\"],\n",
    "    template=first_template,\n",
    ")"
   ]
  },
  {
   "cell_type": "code",
   "execution_count": 27,
   "metadata": {},
   "outputs": [],
   "source": [
    "# Create the second prompt template for simplifying the detailed answer\n",
    "second_template = \"\"\"\n",
    "Now, simplify the explanation of the topic:\n",
    "{input}\n",
    "\"\"\"\n",
    "second_prompt = PromptTemplate(\n",
    "    input_variables=[\"input\"],\n",
    "    template=second_template,\n",
    ")"
   ]
  },
  {
   "cell_type": "code",
   "execution_count": 28,
   "metadata": {},
   "outputs": [],
   "source": [
    "# Create LLMChains for both templates\n",
    "first_chain = LLMChain(llm=llm, prompt=first_prompt, output_key=\"detailed_answer\")\n",
    "second_chain = LLMChain(llm=llm, prompt=second_prompt)"
   ]
  },
  {
   "cell_type": "code",
   "execution_count": 29,
   "metadata": {},
   "outputs": [],
   "source": [
    "# Combine the chains into a SimpleSequentialChain\n",
    "overall_chain = SimpleSequentialChain(chains=[first_chain, second_chain], verbose=True)"
   ]
  },
  {
   "cell_type": "code",
   "execution_count": 30,
   "metadata": {},
   "outputs": [],
   "source": [
    "# Function to get a response from the chatbot based on topic\n",
    "def get_response(topic):\n",
    "    # Get the combined answers for the topic\n",
    "    combined_answers = get_combined_answer(topic)\n",
    "    \n",
    "    # If the topic is not found in the knowledge base, return the default response\n",
    "    if combined_answers == \"I'm sorry, I don't have information on that topic.\":\n",
    "        return combined_answers\n",
    "    \n",
    "    # Concatenate topic and combined answers into a single input\n",
    "    input_text = f\"Topic: {topic}\\n{combined_answers}\"\n",
    "    \n",
    "    # Run the overall chain specifying only the input variable for the first chain\n",
    "    response = overall_chain.run(input_text)\n",
    "    return response"
   ]
  },
  {
   "cell_type": "code",
   "execution_count": 31,
   "metadata": {},
   "outputs": [
    {
     "name": "stdout",
     "output_type": "stream",
     "text": [
      "I'm sorry, I don't have information on that topic.\n"
     ]
    }
   ],
   "source": [
    "# Example usage\n",
    "topic = \"Deep Learning\"\n",
    "response = get_response(topic)\n",
    "print(response)"
   ]
  },
  {
   "cell_type": "code",
   "execution_count": 32,
   "metadata": {},
   "outputs": [
    {
     "name": "stdout",
     "output_type": "stream",
     "text": [
      "\n",
      "\n",
      "\u001b[1m> Entering new SimpleSequentialChain chain...\u001b[0m\n",
      "\u001b[36;1m\u001b[1;3mQ: What if I don’t meet the minimum requirements?\n",
      "A: We want to help you succeed! Contact your admissions representative(https://www.cgu.edu/admissions/meet-our-team/) to discuss your admission options.\n",
      "\n",
      "Q: Will my application be considered if my application is incomplete?\n",
      "A: We encourage you to submit a complete application as soon as possible. If an application is incomplete, the application will remain pending until all required materials are received. As a reminder, all application materials must be received by the posted deadline.\n",
      "\n",
      "Q: How can I find out more about the Admissions Committee’s decision?\n",
      "A: The Admissions Committee does not share its deliberations or provide comments on individual applications. The Admissions Committee makes its decisions based on the application as a whole. We recommend you use the opportunity to reapply.\n",
      "\n",
      "Q: How can I check the status of my application?\n",
      "A: You can check the status of your application by logging into your online portal(https://www.cgu.edu/admissions/my-application/). If you have any questions about your application status, please contact us at admissions@cgu.edu or call 909.607.7711.\n",
      "\n",
      "Q: Do I need to submit official transcripts?\n",
      "A: Yes, all applicants must submit official transcripts\u001b[0m\n",
      "\u001b[33;1m\u001b[1;3mfrom all post-secondary institutions attended, including community colleges. Please see the instructions below for submitting official transcripts.\n",
      "\n",
      "Q: What is the difference between a non-matriculated student and a graduate student?\n",
      "A: A non-matriculated student is not working toward a degree but can take up to 12 units of coursework. A graduate student is working toward a degree at Claremont Graduate University and is required to take at least 9 units of coursework (3 courses) each semester.\n",
      "\n",
      "Q: What is the difference between taking courses as a non-matriculated student and taking courses as a graduate student?\n",
      "A: A non-matriculated student is not working toward a degree. The student is taking courses for professional development, personal enrichment, or to explore an area of interest. A student may take up to 12 units of coursework (4 courses) as a non-matriculated student. A graduate student is working toward a degree at Claremont Graduate University and is required to take at least 9 units of coursework (3 courses) each semester. Graduate students may take up to 12 units of coursework (4 courses) per semester. An online graduate student may take up to 18 units of coursework (6 courses) per semester.\n",
      "\n",
      "Q: I\u001b[0m\n",
      "\n",
      "\u001b[1m> Finished chain.\u001b[0m\n",
      "from all post-secondary institutions attended, including community colleges. Please see the instructions below for submitting official transcripts.\n",
      "\n",
      "Q: What is the difference between a non-matriculated student and a graduate student?\n",
      "A: A non-matriculated student is not working toward a degree but can take up to 12 units of coursework. A graduate student is working toward a degree at Claremont Graduate University and is required to take at least 9 units of coursework (3 courses) each semester.\n",
      "\n",
      "Q: What is the difference between taking courses as a non-matriculated student and taking courses as a graduate student?\n",
      "A: A non-matriculated student is not working toward a degree. The student is taking courses for professional development, personal enrichment, or to explore an area of interest. A student may take up to 12 units of coursework (4 courses) as a non-matriculated student. A graduate student is working toward a degree at Claremont Graduate University and is required to take at least 9 units of coursework (3 courses) each semester. Graduate students may take up to 12 units of coursework (4 courses) per semester. An online graduate student may take up to 18 units of coursework (6 courses) per semester.\n",
      "\n",
      "Q: I\n"
     ]
    }
   ],
   "source": [
    "# Example usage\n",
    "topic = \"Admissions Process\"\n",
    "response = get_response(topic)\n",
    "print(response)"
   ]
  }
 ],
 "metadata": {
  "kernelspec": {
   "display_name": "Python 3",
   "language": "python",
   "name": "python3"
  },
  "language_info": {
   "codemirror_mode": {
    "name": "ipython",
    "version": 3
   },
   "file_extension": ".py",
   "mimetype": "text/x-python",
   "name": "python",
   "nbconvert_exporter": "python",
   "pygments_lexer": "ipython3",
   "version": "3.11.0"
  }
 },
 "nbformat": 4,
 "nbformat_minor": 2
}
